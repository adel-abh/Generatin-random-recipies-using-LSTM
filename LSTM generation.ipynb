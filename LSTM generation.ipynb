{
  "cells": [
    {
      "cell_type": "markdown",
      "metadata": {
        "id": "view-in-github",
        "colab_type": "text"
      },
      "source": [
        "<a href=\"https://colab.research.google.com/github/adel-abh/Generatin-random-recipies-using-LSTM/blob/main/Generation.ipynb\" target=\"_parent\"><img src=\"https://colab.research.google.com/assets/colab-badge.svg\" alt=\"Open In Colab\"/></a>"
      ]
    },
    {
      "cell_type": "code",
      "execution_count": null,
      "metadata": {
        "id": "F5fo5ebA0-eP"
      },
      "outputs": [],
      "source": [
        "from gensim.models import Word2Vec\n",
        "from keras.preprocessing.text import Tokenizer\n",
        "from tensorflow.keras.preprocessing.sequence import pad_sequences\n",
        "from keras.utils import to_categorical\n",
        "from keras.models import Sequential\n",
        "from keras.layers import LSTM, Dense, Embedding, Dropout\n",
        "from keras.metrics import Precision, Recall\n",
        "import numpy as np\n",
        "import pandas as pd\n",
        "import tensorflow as tf\n",
        "import random\n",
        "import re\n",
        "import matplotlib.pyplot as plt\n",
        "import time\n",
        "import itertools\n",
        "import plotly.express as px\n",
        "import seaborn as sns\n",
        "import statistics"
      ]
    },
    {
      "cell_type": "code",
      "execution_count": null,
      "metadata": {
        "id": "uO958b4t1Czy"
      },
      "outputs": [],
      "source": [
        "data2=pd.read_csv('flavor_db.csv')\n",
        "df= pd.read_csv(\"Data_food_final.csv\")\n",
        "food = df"
      ]
    },
    {
      "cell_type": "code",
      "execution_count": null,
      "metadata": {
        "id": "iArnqeRn1E_w"
      },
      "outputs": [],
      "source": [
        "def extract_list_of_ingredients(ingredient_string):\n",
        "    ingredient_string = ingredient_string.strip(\"][ '\").split(\",\")\n",
        "    ingredient_list = list()\n",
        "    for ingredient in ingredient_string:\n",
        "        ingredient_list.append(ingredient.strip(\"' ' \"))\n",
        "\n",
        "    return ingredient_list"
      ]
    },
    {
      "cell_type": "code",
      "execution_count": null,
      "metadata": {
        "id": "hXJKzE2M1GGw"
      },
      "outputs": [],
      "source": [
        "food['ingredients_list'] = food.apply(lambda x: extract_list_of_ingredients(x['Ingredients_string']), axis=1)"
      ]
    },
    {
      "cell_type": "code",
      "execution_count": null,
      "metadata": {
        "id": "ridFkE8u1MxR"
      },
      "outputs": [],
      "source": [
        "recipes_list = list()\n",
        "for index, row in food.iterrows():\n",
        "    ingredients_string = \", \".join(row['ingredients_list']) # Convert list to string\n",
        "    recipes_list.append(extract_list_of_ingredients(ingredients_string))\n"
      ]
    },
    {
      "cell_type": "code",
      "execution_count": null,
      "metadata": {
        "id": "QCb1UJhA1Mzx"
      },
      "outputs": [],
      "source": [
        "unique_ingredient_list = list()\n",
        "\n",
        "for index, recipe in enumerate(recipes_list):\n",
        "    for ingredient in recipe:\n",
        "        if ingredient not in unique_ingredient_list:\n",
        "            unique_ingredient_list.append(ingredient)"
      ]
    },
    {
      "cell_type": "code",
      "execution_count": null,
      "metadata": {
        "id": "snuz7sTt1M2f"
      },
      "outputs": [],
      "source": [
        "tokenizer = Tokenizer()\n",
        "tokenizer.fit_on_texts(recipes_list)\n",
        "vocab_size = len(tokenizer.word_index) + 1\n"
      ]
    },
    {
      "cell_type": "code",
      "execution_count": null,
      "metadata": {
        "id": "PcivM9j8ky0P"
      },
      "outputs": [],
      "source": [
        "# Train a Word2Vec model on the sentences\n",
        "w2v_model = Word2Vec(recipes_list, vector_size=100, window=5, min_count=1, workers=4)\n"
      ]
    },
    {
      "cell_type": "code",
      "execution_count": null,
      "metadata": {
        "id": "AIXKMi4tkzCA"
      },
      "outputs": [],
      "source": [
        "# Create an embedding matrix\n",
        "embedding_matrix = np.zeros((vocab_size, 100))\n",
        "for word, i in tokenizer.word_index.items():\n",
        "    if word in w2v_model.wv:\n",
        "        embedding_matrix[i] = w2v_model.wv[word]\n"
      ]
    },
    {
      "cell_type": "code",
      "execution_count": null,
      "metadata": {
        "id": "JVINahx2kzPN"
      },
      "outputs": [],
      "source": [
        "# Create input-output pairs\n",
        "input_sequences = []\n",
        "output_tokens = []\n",
        "for sentence in recipes_list:\n",
        "    token_list = tokenizer.texts_to_sequences([sentence])[0]\n",
        "    for i in range(1, len(token_list)):\n",
        "        input_sequence = token_list[:i]\n",
        "        output_token = token_list[i]\n",
        "        input_sequences.append(input_sequence)\n",
        "        output_tokens.append(output_token)\n",
        "\n",
        "# Pad sequences and obtain variables\n",
        "avg_sequence_len = int(np.mean([len(x) for x in recipes_list]))\n",
        "input_sequences = np.array(pad_sequences(input_sequences, maxlen=avg_sequence_len, padding='pre'))\n",
        "X = input_sequences\n",
        "y = to_categorical(output_tokens, num_classes=vocab_size)\n"
      ]
    },
    {
      "cell_type": "code",
      "execution_count": null,
      "metadata": {
        "id": "I01cneGCk2xg"
      },
      "outputs": [],
      "source": [
        "# Define the LSTM model\n",
        "model = Sequential()\n",
        "model.add(Embedding(vocab_size, 100, weights=[embedding_matrix], input_length=None, trainable=False))\n",
        "model.add(LSTM(256, return_sequences=True))\n",
        "model.add(LSTM(256))\n",
        "model.add(Dropout(0.2))\n",
        "model.add(Dense(vocab_size, activation='softmax'))\n"
      ]
    },
    {
      "cell_type": "code",
      "source": [
        "# Compile and train the model\n",
        "model.compile(loss='categorical_crossentropy', optimizer='adam', metrics=['accuracy', Precision(), Recall()])\n",
        "model.fit(X, y, epochs=150)"
      ],
      "metadata": {
        "id": "DwCIeS3jwFyI"
      },
      "execution_count": null,
      "outputs": []
    },
    {
      "cell_type": "code",
      "execution_count": null,
      "metadata": {
        "id": "2BCMAoBG1NFb"
      },
      "outputs": [],
      "source": [
        "def generate_ingredient(ingredient1, ingredient2, ingredient3):\n",
        "    # Generate a sequence of input tokens\n",
        "    input_text = ' '.join([str(ingredient) for ingredient in [ingredient1, ingredient2, ingredient3]])\n",
        "    input_tokens = input_text.split()\n",
        "\n",
        "    # Convert the input tokens to their corresponding integer indexes\n",
        "    input_seq = []\n",
        "    for token in input_tokens:\n",
        "        if token in tokenizer.word_index:\n",
        "            input_seq.append(tokenizer.word_index[token])\n",
        "        else:\n",
        "            input_seq.append(0)\n",
        "\n",
        "    # Pad the input sequence to the average sequence length\n",
        "    avg_sequence_len = int(np.mean([len(x) for x in recipes_list]))\n",
        "    padded_input_seq = pad_sequences([input_seq], maxlen=avg_sequence_len, padding='pre')\n",
        "\n",
        "    # Use the LSTM model to make a prediction\n",
        "    prediction = model.predict(padded_input_seq)\n",
        "\n",
        "    # Convert the prediction to a token index\n",
        "    token_index = np.argmax(prediction)\n",
        "\n",
        "    # Convert the token index to a word\n",
        "    word = tokenizer.index_word[token_index]\n",
        "\n",
        "    # return the ingredient\n",
        "    return(word)\n"
      ]
    },
    {
      "cell_type": "code",
      "execution_count": null,
      "metadata": {
        "id": "unZ_8qIi1NIV"
      },
      "outputs": [],
      "source": [
        "def generate_recipe(recipe):\n",
        "    # Generate 8 new ingredients for the recipe\n",
        "    recipe_list = [i.strip() for i in recipe]\n",
        "    new_ingredients = []\n",
        "    for i in range(8):\n",
        "      new_ingredient = generate_ingredient(recipe_list[-3],recipe_list[-2], recipe_list[-1])\n",
        "      new_ingredients.append(new_ingredient)\n",
        "      recipe_list.append(new_ingredient)\n",
        "\n",
        "    return recipe_list\n"
      ]
    },
    {
      "cell_type": "code",
      "execution_count": null,
      "metadata": {
        "id": "Me7BQn221ZsP"
      },
      "outputs": [],
      "source": [
        "def lookup_set(ingredient,data):\n",
        "    \"\"\"Arguments:\n",
        "        ingridient: String representing the ingrediant alias\n",
        "        data : Dataframe representing the molecular dataset\n",
        "    returns\n",
        "        set of molecules of that ingredient\"\"\"\n",
        "    return eval(data.query(f\"alias.str.fullmatch('{ingredient}')\")['molecules'].tolist()[0])\n",
        "\n",
        "def avg_flavor(recipe):\n",
        "    '''calculates the average flavor sharing of one recipe\n",
        "    Arguments\n",
        "        recipe : dictionary which represents a recipe\n",
        "    Returns\n",
        "        score :a float representing average flavor sharing'''\n",
        "    somme=0\n",
        "    nR=len(recipe.keys())\n",
        "    combs=list(itertools.combinations(recipe.keys(), 2))\n",
        "    for element in combs:\n",
        "        somme=somme+(len(recipe[element[0]].intersection(recipe[element[1]])))\n",
        "    score=somme*2/(nR*(nR-1))\n",
        "    return score\n"
      ]
    },
    {
      "cell_type": "code",
      "execution_count": null,
      "metadata": {
        "id": "EXi_Gg861ZuV"
      },
      "outputs": [],
      "source": [
        "import json\n",
        "avg_values = []\n",
        "df = pd.DataFrame()\n",
        "ingredient_counts_list = []\n",
        "for i in range(0, 100):\n",
        "    recipes = []\n",
        "    ingredient_counts = Counter()\n",
        "\n",
        "    for j in range(0, 348):\n",
        "        recipe = random.sample(list_ingredients, 6)\n",
        "        recipe_str = json.dumps(recipe)\n",
        "        recipe_list = [ingredient.strip() for ingredient in json.loads(recipe_str)]\n",
        "        recipes.append(generate_recipe(recipe_list))\n",
        "\n",
        "    df['recipes']=recipes\n",
        "    df['Ingredients_string'] = df.recipes.apply(lambda x:dict.fromkeys(x, \" \"))\n",
        "    df['Ingredients_dict'] = df['Ingredients_string'].apply(lambda ingredients: dict.fromkeys(ingredients, set()))\n",
        "    for element in df['Ingredients_dict']:\n",
        "        for k,v in element.items():\n",
        "            element[k]=lookup_set(k,data2)\n",
        "    df['avg_flavor']=df['Ingredients_dict'].apply(lambda x:avg_flavor(x))\n",
        "    final_score=sum(df['avg_flavor'])/df['avg_flavor'].shape[0]\n",
        "    avg_values.append(34.275600390776006-final_score)\n",
        "\n",
        "\n"
      ]
    },
    {
      "cell_type": "code",
      "source": [
        "# count negative values\n",
        "count=0\n",
        "for i in avg_values:\n",
        "    if i <0:\n",
        "        count=count+1\n",
        "print(count)"
      ],
      "metadata": {
        "id": "vm-ehS3H9I6_",
        "outputId": "a9faf833-c987-4fa3-ff66-cd34d7bdfdb4",
        "colab": {
          "base_uri": "https://localhost:8080/"
        }
      },
      "execution_count": null,
      "outputs": [
        {
          "output_type": "stream",
          "name": "stdout",
          "text": [
            "100\n"
          ]
        }
      ]
    },
    {
      "cell_type": "code",
      "execution_count": null,
      "metadata": {
        "id": "4rmNFE20zlYl",
        "colab": {
          "base_uri": "https://localhost:8080/"
        },
        "outputId": "71167502-fbb6-4698-9373-5a66ddfed85c"
      },
      "outputs": [
        {
          "output_type": "stream",
          "name": "stdout",
          "text": [
            "0\n"
          ]
        }
      ],
      "source": [
        "# count negative values\n",
        "count1=0\n",
        "for i in avg_values:\n",
        "    if i >=0:\n",
        "        count1=count1+1\n",
        "print(count1)"
      ]
    },
    {
      "cell_type": "code",
      "execution_count": null,
      "metadata": {
        "id": "wfptOyswzp1e",
        "colab": {
          "base_uri": "https://localhost:8080/",
          "height": 469
        },
        "outputId": "ed115daf-392a-475e-fc2b-b73ec5d71bbb"
      },
      "outputs": [
        {
          "output_type": "execute_result",
          "data": {
            "text/plain": [
              "[Text(0.5, 1.0, 'recipe size = 11')]"
            ]
          },
          "metadata": {},
          "execution_count": 36
        },
        {
          "output_type": "display_data",
          "data": {
            "text/plain": [
              "<Figure size 640x480 with 1 Axes>"
            ],
            "image/png": "[encoded data removed]"
          },
          "metadata": {}
        }
      ],
      "source": [
        "x = [i for i in range(len(avg_values))]\n",
        "graph = sns.lineplot(x=x, y=avg_values)\n",
        "graph.axhline(0)\n",
        "graph.axhline(0)\n",
        "graph.set(title='recipe size = 11')\n"
      ]
    },
    {
      "cell_type": "code",
      "execution_count": null,
      "metadata": {
        "id": "dvssCEvIz045",
        "colab": {
          "base_uri": "https://localhost:8080/"
        },
        "outputId": "5743cb60-88d5-49aa-9ad0-99a54447b171"
      },
      "outputs": [
        {
          "output_type": "stream",
          "name": "stdout",
          "text": [
            "the min is -3.3373988545507918\n",
            "the max is -0.7752907040805965\n",
            "the mean is -2.354298288131271\n"
          ]
        }
      ],
      "source": [
        "min_value,max_value,mean=min(avg_values),max(avg_values),statistics.mean(avg_values)\n",
        "print(f'the min is {min_value}')\n",
        "print(f'the max is {max_value}')\n",
        "print(f'the mean is {mean}')"
      ]
    },
    {
      "cell_type": "code",
      "execution_count": null,
      "metadata": {
        "id": "mIie6Tcpz25v",
        "colab": {
          "base_uri": "https://localhost:8080/",
          "height": 406
        },
        "outputId": "17179e0f-7fcd-4466-c704-338d1226b5f6"
      },
      "outputs": [
        {
          "output_type": "display_data",
          "data": {
            "text/plain": [
              "<Figure size 640x480 with 1 Axes>"
            ],
            "image/png": "[encoded data removed]"
          },
          "metadata": {}
        }
      ],
      "source": [
        "\n",
        "data = [count,count1]\n",
        "keys = ['negative','positive']\n",
        "\n",
        "# declaring exploding pie\n",
        "explode = [0, 0.1]\n",
        "# define Seaborn color palette to use\n",
        "palette_color = sns.color_palette('bright')\n",
        "\n",
        "# plotting data on chart\n",
        "plt.pie(data, labels=keys, colors=palette_color,\n",
        "\t\texplode=explode, autopct='%.0f%%')\n",
        "\n",
        "# displaying chart\n",
        "plt.show()\n"
      ]
    }
  ],
  "metadata": {
    "colab": {
      "provenance": [],
      "gpuType": "T4",
      "authorship_tag": "ABX9TyNxLvaq2SlCBCyGpTlo2pm4",
      "include_colab_link": true
    },
    "kernelspec": {
      "display_name": "Python 3",
      "name": "python3"
    },
    "language_info": {
      "name": "python"
    }
  },
  "nbformat": 4,
  "nbformat_minor": 0
}
