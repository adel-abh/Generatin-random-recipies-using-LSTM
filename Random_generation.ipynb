{
  "cells": [
    {
      "cell_type": "markdown",
      "metadata": {
        "id": "view-in-github",
        "colab_type": "text"
      },
      "source": [
        "<a href=\"https://colab.research.google.com/github/adel-abh/Generatin-random-recipies-using-LSTM/blob/main/Random_generation.ipynb\" target=\"_parent\"><img src=\"https://colab.research.google.com/assets/colab-badge.svg\" alt=\"Open In Colab\"/></a>"
      ]
    },
    {
      "cell_type": "code",
      "execution_count": null,
      "id": "1776b07d",
      "metadata": {
        "id": "1776b07d"
      },
      "outputs": [],
      "source": [
        "import pandas as pd\n",
        "import numpy as np\n",
        "import random\n",
        "import time\n",
        "import itertools\n",
        "import plotly.express as px\n",
        "import seaborn as sns\n",
        "import statistics\n",
        "import matplotlib.pyplot as plt\n",
        "from utils import calculate_frequency,lookup_set,avg_flavor\n",
        "import json\n"
      ]
    },
    {
      "cell_type": "code",
      "execution_count": null,
      "id": "65b421e5",
      "metadata": {
        "id": "65b421e5"
      },
      "outputs": [],
      "source": [
        "data2=pd.read_csv('FlavorDB\\\\flavor_db.csv')\n",
        "food=pd.read_csv('Data_food_final.csv')\n",
        "# ingredient_count contains the occurence of each ingredient in the dataset\n",
        "with open('occurrence (1).json') as json_file:\n",
        "    occurence_dic = json.load(json_file)\n",
        "\n",
        "    print(occurence_dic)"
      ]
    },
    {
      "cell_type": "code",
      "execution_count": null,
      "id": "c519b757",
      "metadata": {
        "id": "c519b757"
      },
      "outputs": [],
      "source": [
        "\n",
        "\n",
        "list_ingredients = set([col for col in occurence_dic.keys()])  # create a set of ingredients\n",
        "avg_values = []\n",
        "recipes = []\n",
        "nb_recipes =348  # number of recipes to generate\n",
        "taille = 11  # recipe length\n",
        "iterations = 100  # number of iterations\n",
        "\n",
        "for _ in range(iterations):\n",
        "    for _ in range(nb_recipes):\n",
        "        recipe = [list(list_ingredients)[np.random.randint(0, len(list_ingredients))] for _ in range(taille)]\n",
        "        recipes.append(recipe)\n",
        "\n",
        "    df = pd.DataFrame()\n",
        "    df['recipes'] = recipes\n",
        "    df['Ingredients_string'] = df.recipes.apply(lambda x: dict.fromkeys(x, \" \"))\n",
        "\n",
        "    for element in df['Ingredients_string']:\n",
        "        for k, v in element.items():\n",
        "            element[k] = lookup_set(k, data2[['alias', 'molecules']])\n",
        "\n",
        "    df['avg_flavor'] = df['Ingredients_string'].apply(lambda x: avg_flavor(x))\n",
        "    final_score = sum(df['avg_flavor']) / df['avg_flavor'].shape[0]\n",
        "    avg_values.append(34.275600390776006 - final_score)\n",
        "    recipes = []  # Réinitialiser la liste des recettes pour chaque itération\n",
        "\n"
      ]
    },
    {
      "cell_type": "code",
      "execution_count": null,
      "id": "52fd2d26",
      "metadata": {
        "id": "52fd2d26"
      },
      "outputs": [],
      "source": [
        "avg_values"
      ]
    },
    {
      "cell_type": "code",
      "execution_count": null,
      "id": "2be1833e",
      "metadata": {
        "id": "2be1833e",
        "outputId": "bc32a32d-8da5-45ad-8ea5-4ff58d83f15b"
      },
      "outputs": [
        {
          "name": "stdout",
          "output_type": "stream",
          "text": [
            "100\n"
          ]
        }
      ],
      "source": [
        "# count negative values\n",
        "count=0\n",
        "for i in avg_values:\n",
        "    if i <0:\n",
        "        count=count+1\n",
        "print(count)"
      ]
    },
    {
      "cell_type": "code",
      "source": [
        "# count potive values\n",
        "count1=0\n",
        "for i in avg_values:\n",
        "    if i >0:\n",
        "        count1=count1+1\n",
        "print(count1)"
      ],
      "metadata": {
        "id": "Ptr0gEaX_kgE"
      },
      "id": "Ptr0gEaX_kgE",
      "execution_count": null,
      "outputs": []
    },
    {
      "cell_type": "code",
      "execution_count": null,
      "id": "f93f8111",
      "metadata": {
        "id": "f93f8111",
        "outputId": "7c6d4572-d4a5-4250-fa13-67c81baaf955"
      },
      "outputs": [
        {
          "data": {
            "text/plain": [
              "[Text(0.5, 1.0, 'Initial Pool Size = 15')]"
            ]
          },
          "execution_count": 15,
          "metadata": {},
          "output_type": "execute_result"
        },
        {
          "data": {
            "image/png": "[encoded data removed]",
            "text/plain": [
              "<Figure size 432x288 with 1 Axes>"
            ]
          },
          "metadata": {
            "needs_background": "light"
          },
          "output_type": "display_data"
        }
      ],
      "source": [
        "x = [i for i in range(len(avg_values))]\n",
        "graph = sns.lineplot(x=x, y=avg_values)\n",
        "graph.axhline(0)\n",
        "graph.axhline(0)\n",
        "#graph.set(title='Initial Pool Size = 15')\n",
        "\n",
        "\n"
      ]
    },
    {
      "cell_type": "code",
      "execution_count": null,
      "id": "6224e2b4",
      "metadata": {
        "id": "6224e2b4",
        "outputId": "ca273d1f-847e-4edb-d4da-cc7d302f215b"
      },
      "outputs": [
        {
          "name": "stdout",
          "output_type": "stream",
          "text": [
            "the min is -8.565227012982426\n",
            "the max is -3.26685764607862\n",
            "the mean is -6.058713078481429\n"
          ]
        }
      ],
      "source": [
        "min_value,max_value,mean=min(avg_values),max(avg_values),statistics.mean(avg_values)\n",
        "print(f'the min is {min_value}')\n",
        "print(f'the max is {max_value}')\n",
        "print(f'the mean is {mean}')"
      ]
    },
    {
      "cell_type": "code",
      "execution_count": null,
      "id": "a5c5edf3",
      "metadata": {
        "id": "a5c5edf3",
        "outputId": "9047e03d-94db-4ff2-cf55-65c4f2fb8ac3"
      },
      "outputs": [
        {
          "data": {
            "image/png": "[encoded data removed]",
            "text/plain": [
              "<Figure size 432x288 with 1 Axes>"
            ]
          },
          "metadata": {},
          "output_type": "display_data"
        }
      ],
      "source": [
        "\n",
        "data = [count,count1]\n",
        "keys = ['negative','positive']\n",
        "\n",
        "# declaring exploding pie\n",
        "explode = [0, 0.1]\n",
        "# define Seaborn color palette to use\n",
        "palette_color = sns.color_palette('bright')\n",
        "\n",
        "# plotting data on chart\n",
        "plt.pie(data, labels=keys, colors=palette_color,\n",
        "\t\texplode=explode, autopct='%.0f%%')\n",
        "\n",
        "# displaying chart\n",
        "plt.show()\n"
      ]
    }
  ],
  "metadata": {
    "kernelspec": {
      "display_name": "Python 3 (ipykernel)",
      "language": "python",
      "name": "python3"
    },
    "language_info": {
      "codemirror_mode": {
        "name": "ipython",
        "version": 3
      },
      "file_extension": ".py",
      "mimetype": "text/x-python",
      "name": "python",
      "nbconvert_exporter": "python",
      "pygments_lexer": "ipython3",
      "version": "3.9.12"
    },
    "colab": {
      "provenance": [],
      "include_colab_link": true
    }
  },
  "nbformat": 4,
  "nbformat_minor": 5
}
