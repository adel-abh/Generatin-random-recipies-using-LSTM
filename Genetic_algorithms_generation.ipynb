{
  "nbformat": 4,
  "nbformat_minor": 0,
  "metadata": {
    "colab": {
      "provenance": [],
      "authorship_tag": "ABX9TyM12KcTw6wPbj7AwBtjjg/b",
      "include_colab_link": true
    },
    "kernelspec": {
      "name": "python3",
      "display_name": "Python 3"
    },
    "language_info": {
      "name": "python"
    }
  },
  "cells": [
    {
      "cell_type": "markdown",
      "metadata": {
        "id": "view-in-github",
        "colab_type": "text"
      },
      "source": [
        "<a href=\"https://colab.research.google.com/github/adel-abh/Generatin-random-recipies-using-LSTM/blob/main/Genetic_algorithms_generation.ipynb\" target=\"_parent\"><img src=\"https://colab.research.google.com/assets/colab-badge.svg\" alt=\"Open In Colab\"/></a>"
      ]
    },
    {
      "cell_type": "code",
      "execution_count": null,
      "metadata": {
        "id": "b-PRzRKsR2VS"
      },
      "outputs": [],
      "source": [
        "import pandas as pd\n",
        "import random\n",
        "import time\n",
        "import itertools\n",
        "import plotly.express as px\n",
        "import seaborn as sns\n",
        "import statistics\n",
        "import matplotlib.pyplot as plt\n",
        "from utils import calculate_frequency,lookup_set,avg_flavor\n",
        "import json\n"
      ]
    },
    {
      "cell_type": "markdown",
      "source": [
        "# part 3\n",
        "## this part contains :\n",
        "\n",
        "- assigning fitness value to each ingredient using the LFW formula / normalized frequency\n",
        "- the generation process\n",
        "- results visualization\n",
        "\n"
      ],
      "metadata": {
        "id": "jq0I9rhYSaqC"
      }
    },
    {
      "cell_type": "code",
      "source": [
        "data2=pd.read_csv('FlavorDB\\\\flavor_db.csv')\n",
        "food=pd.read_csv('data_food_final.csv')\n",
        "# ingredient_count contains the occurence of each ingredient in the dataset\n",
        "with open('occurence (1).json') as json_file:\n",
        "    occurence_dic = json.load(json_file)\n",
        "    print (occurence_dic)"
      ],
      "metadata": {
        "id": "yOeKkW-aSdgZ"
      },
      "execution_count": null,
      "outputs": []
    },
    {
      "cell_type": "markdown",
      "source": [
        "# either calculate normalized frequency or IFW\n",
        "### assigning weights to ingredients using normalized frequency\n"
      ],
      "metadata": {
        "id": "9wHR5luOSlNR"
      }
    },
    {
      "cell_type": "code",
      "source": [
        "food['freq'] = food.Ingredients_string.apply(lambda x:dict.fromkeys(eval(x), \"\"))\n",
        "food['freq']=food['freq'].apply(lambda row :calculate_frequency(row,occurence_dic))\n",
        "food['freq']\n",
        "fitness_dic={}\n",
        "for element in food['freq']:\n",
        "    for k,v in element.items():\n",
        "        fitness_dic[k]=v"
      ],
      "metadata": {
        "id": "GH89yOkaSp87"
      },
      "execution_count": null,
      "outputs": []
    },
    {
      "cell_type": "code",
      "source": [
        "    df['Ingredients_string'] = df.recipes.apply(lambda x:dict.fromkeys(x, \" \"))\n",
        "df.Ingredients_string[0]"
      ],
      "metadata": {
        "id": "5TUqkzMASsVp"
      },
      "execution_count": null,
      "outputs": []
    },
    {
      "cell_type": "markdown",
      "source": [
        "# there are 3 parameters to control\n",
        "### number of ingredients in the initial pool  (k)\n",
        "### the recipe length (taille)\n",
        "### the number of initial random recipes (nb_random)\n"
      ],
      "metadata": {
        "id": "ZHWm0ZqoSvmB"
      }
    },
    {
      "cell_type": "code",
      "source": [
        "list_ingredients=set([col for col in occurence_dic.keys()]) # create a set of ingredients\n",
        "avg_values=[]\n",
        "nb_random=7 ## nb of intial recipes\n",
        "taille=10 # recipe length\n",
        "nb_iterations = 100 # number of iterations\n",
        "for i in range(0,nb_iterations):\n",
        "    N_pool=set(random.sample(list(list_ingredients), k=15)) # our initial pool of ingredients\n",
        "\n",
        "    recipes=[] #the list of random corpus\n",
        "    #create the initial population randomly\n",
        "    for i in range (nb_random):\n",
        "        recipes.append((random.sample(N_pool,taille)))\n",
        "\n",
        "    while(len(recipes)<232):\n",
        "        # choose a template randomly from the recipes\n",
        "        template=list(random.choice(recipes))\n",
        "        # pick an ingredient from the template and compare it's fitness value to an ingredient from the pool\n",
        "        ingredient_recipe=random.choice(template)\n",
        "\n",
        "        ingredient_pool=random.choice(list(N_pool))\n",
        "        # if it has a bigger value , replace it\n",
        "        if fitness_dic[ingredient_recipe]<fitness_dic[ingredient_pool]:\n",
        "            template[template.index(ingredient_recipe)]=ingredient_pool\n",
        "        # verify if the new recipe doesn't already exist in our corpus\n",
        "        if set(template) not in recipes:\n",
        "            recipes.append((template))\n",
        "        # add a new ingredient , until we're out of ingredients\n",
        "        try:\n",
        "            # choose a new ingredient to add to the pool\n",
        "            ing_to_add=random.choice(list(list_ingredients.difference(N_pool)))\n",
        "            N_pool.add(ing_to_add)\n",
        "            # remove the old ingredient\n",
        "            N_pool.remove(ingredient_pool)\n",
        "        except IndexError:\n",
        "            continue\n",
        "    df = pd.DataFrame()\n",
        "    df['recipes']=recipes\n",
        "    df['Ingredients_string'] = df.recipes.apply(lambda x:dict.fromkeys(x, \" \"))\n",
        "\n",
        "    for element in df['Ingredients_string']:\n",
        "        for k,v in element.items():q\n",
        "            element[k]=lookup_set(k,data2)\n",
        "    df['avg_flavor']=df['Ingredients_string'].apply(lambda x:avg_flavor(x))\n",
        "    final_score=sum(df['avg_flavor'])/df['avg_flavor'].shape[0]\n",
        "    avg_values.append(34.275600390776006-final_score)\n",
        "\n",
        "\n"
      ],
      "metadata": {
        "id": "bfAFw9bpSwix"
      },
      "execution_count": null,
      "outputs": []
    }
  ]
}